{
 "cells": [
  {
   "cell_type": "code",
   "execution_count": 1,
   "id": "2b1163a5-f2ad-476b-a06c-b56cab964e35",
   "metadata": {},
   "outputs": [],
   "source": [
    "import numpy as np\n",
    "import pandas as pd"
   ]
  },
  {
   "cell_type": "code",
   "execution_count": 65,
   "id": "dc249e45-5c10-4926-aa03-d45ea1553953",
   "metadata": {},
   "outputs": [],
   "source": [
    "df = pd.read_csv('Listofstartups.csv')"
   ]
  },
  {
   "cell_type": "code",
   "execution_count": 66,
   "id": "2fba7ad4-6b46-4d35-bec6-2fdb69d2626d",
   "metadata": {},
   "outputs": [
    {
     "data": {
      "text/html": [
       "<div>\n",
       "<style scoped>\n",
       "    .dataframe tbody tr th:only-of-type {\n",
       "        vertical-align: middle;\n",
       "    }\n",
       "\n",
       "    .dataframe tbody tr th {\n",
       "        vertical-align: top;\n",
       "    }\n",
       "\n",
       "    .dataframe thead th {\n",
       "        text-align: right;\n",
       "    }\n",
       "</style>\n",
       "<table border=\"1\" class=\"dataframe\">\n",
       "  <thead>\n",
       "    <tr style=\"text-align: right;\">\n",
       "      <th></th>\n",
       "      <th>Incubation_Center</th>\n",
       "      <th>Name_of_startup</th>\n",
       "      <th>Location of company</th>\n",
       "      <th>Sector</th>\n",
       "    </tr>\n",
       "  </thead>\n",
       "  <tbody>\n",
       "    <tr>\n",
       "      <th>count</th>\n",
       "      <td>241</td>\n",
       "      <td>241</td>\n",
       "      <td>239</td>\n",
       "      <td>241</td>\n",
       "    </tr>\n",
       "    <tr>\n",
       "      <th>unique</th>\n",
       "      <td>44</td>\n",
       "      <td>238</td>\n",
       "      <td>66</td>\n",
       "      <td>165</td>\n",
       "    </tr>\n",
       "    <tr>\n",
       "      <th>top</th>\n",
       "      <td>SIIC, IIT Kanpur</td>\n",
       "      <td>MedCuore Medical Solutions Pvt Ltd</td>\n",
       "      <td>Bengaluru, Karnataka</td>\n",
       "      <td>Healthcare</td>\n",
       "    </tr>\n",
       "    <tr>\n",
       "      <th>freq</th>\n",
       "      <td>17</td>\n",
       "      <td>2</td>\n",
       "      <td>31</td>\n",
       "      <td>34</td>\n",
       "    </tr>\n",
       "  </tbody>\n",
       "</table>\n",
       "</div>"
      ],
      "text/plain": [
       "       Incubation_Center                     Name_of_startup  \\\n",
       "count                241                                 241   \n",
       "unique                44                                 238   \n",
       "top     SIIC, IIT Kanpur  MedCuore Medical Solutions Pvt Ltd   \n",
       "freq                  17                                   2   \n",
       "\n",
       "         Location of company      Sector  \n",
       "count                    239         241  \n",
       "unique                    66         165  \n",
       "top     Bengaluru, Karnataka  Healthcare  \n",
       "freq                      31          34  "
      ]
     },
     "execution_count": 66,
     "metadata": {},
     "output_type": "execute_result"
    }
   ],
   "source": [
    "df.describe()"
   ]
  },
  {
   "cell_type": "code",
   "execution_count": 67,
   "id": "9c59ae83-4a9e-4ba2-b9d8-91abd8362c3c",
   "metadata": {},
   "outputs": [
    {
     "data": {
      "text/html": [
       "<div>\n",
       "<style scoped>\n",
       "    .dataframe tbody tr th:only-of-type {\n",
       "        vertical-align: middle;\n",
       "    }\n",
       "\n",
       "    .dataframe tbody tr th {\n",
       "        vertical-align: top;\n",
       "    }\n",
       "\n",
       "    .dataframe thead th {\n",
       "        text-align: right;\n",
       "    }\n",
       "</style>\n",
       "<table border=\"1\" class=\"dataframe\">\n",
       "  <thead>\n",
       "    <tr style=\"text-align: right;\">\n",
       "      <th></th>\n",
       "      <th>Incubation_Center</th>\n",
       "      <th>Name_of_startup</th>\n",
       "      <th>Location of company</th>\n",
       "      <th>Sector</th>\n",
       "    </tr>\n",
       "  </thead>\n",
       "  <tbody>\n",
       "    <tr>\n",
       "      <th>0</th>\n",
       "      <td>ABES Ghaziabad</td>\n",
       "      <td>Suryansh</td>\n",
       "      <td>New Delhi</td>\n",
       "      <td>EdTech</td>\n",
       "    </tr>\n",
       "    <tr>\n",
       "      <th>1</th>\n",
       "      <td>AIC Banasthali Vidyapith Foundation</td>\n",
       "      <td>Thinkpods Education Services Private Limited (...</td>\n",
       "      <td>Satara, Maharashtra</td>\n",
       "      <td>Ed Tech</td>\n",
       "    </tr>\n",
       "    <tr>\n",
       "      <th>2</th>\n",
       "      <td>AIC Banasthali Vidyapith Foundation</td>\n",
       "      <td>Inventiway Solutions Pvt.Ltd.</td>\n",
       "      <td>Mumbai, Maharashtra</td>\n",
       "      <td>HR Tech</td>\n",
       "    </tr>\n",
       "    <tr>\n",
       "      <th>3</th>\n",
       "      <td>AIC Banasthali Vidyapith Foundation</td>\n",
       "      <td>C2M Internet India Pvt. Ltd.</td>\n",
       "      <td>Lucknow, Uttar Pradesh</td>\n",
       "      <td>Retail Tech</td>\n",
       "    </tr>\n",
       "    <tr>\n",
       "      <th>4</th>\n",
       "      <td>AIC Pinnacle Entrepreneurship Forum</td>\n",
       "      <td>Wastinno</td>\n",
       "      <td>Pune, Maharashtra</td>\n",
       "      <td>agriculture</td>\n",
       "    </tr>\n",
       "  </tbody>\n",
       "</table>\n",
       "</div>"
      ],
      "text/plain": [
       "                     Incubation_Center  \\\n",
       "0                       ABES Ghaziabad   \n",
       "1  AIC Banasthali Vidyapith Foundation   \n",
       "2  AIC Banasthali Vidyapith Foundation   \n",
       "3  AIC Banasthali Vidyapith Foundation   \n",
       "4  AIC Pinnacle Entrepreneurship Forum   \n",
       "\n",
       "                                     Name_of_startup     Location of company  \\\n",
       "0                                           Suryansh               New Delhi   \n",
       "1  Thinkpods Education Services Private Limited (...     Satara, Maharashtra   \n",
       "2                      Inventiway Solutions Pvt.Ltd.     Mumbai, Maharashtra   \n",
       "3                       C2M Internet India Pvt. Ltd.  Lucknow, Uttar Pradesh   \n",
       "4                                           Wastinno       Pune, Maharashtra   \n",
       "\n",
       "        Sector  \n",
       "0       EdTech  \n",
       "1      Ed Tech  \n",
       "2      HR Tech  \n",
       "3  Retail Tech  \n",
       "4  agriculture  "
      ]
     },
     "execution_count": 67,
     "metadata": {},
     "output_type": "execute_result"
    }
   ],
   "source": [
    "df.head()"
   ]
  },
  {
   "cell_type": "code",
   "execution_count": 68,
   "id": "8c77c57e-d20e-4f6c-84e9-6d16590ee162",
   "metadata": {},
   "outputs": [],
   "source": [
    "df[['City', 'State']] = df['Location of company'].str.split(',', expand=True, n=1)"
   ]
  },
  {
   "cell_type": "code",
   "execution_count": 69,
   "id": "aa303792-57ff-4a93-ad7e-c0ecc99d1fbf",
   "metadata": {},
   "outputs": [
    {
     "data": {
      "text/html": [
       "<div>\n",
       "<style scoped>\n",
       "    .dataframe tbody tr th:only-of-type {\n",
       "        vertical-align: middle;\n",
       "    }\n",
       "\n",
       "    .dataframe tbody tr th {\n",
       "        vertical-align: top;\n",
       "    }\n",
       "\n",
       "    .dataframe thead th {\n",
       "        text-align: right;\n",
       "    }\n",
       "</style>\n",
       "<table border=\"1\" class=\"dataframe\">\n",
       "  <thead>\n",
       "    <tr style=\"text-align: right;\">\n",
       "      <th></th>\n",
       "      <th>Incubation_Center</th>\n",
       "      <th>Name_of_startup</th>\n",
       "      <th>Location of company</th>\n",
       "      <th>Sector</th>\n",
       "      <th>City</th>\n",
       "      <th>State</th>\n",
       "    </tr>\n",
       "  </thead>\n",
       "  <tbody>\n",
       "    <tr>\n",
       "      <th>0</th>\n",
       "      <td>ABES Ghaziabad</td>\n",
       "      <td>Suryansh</td>\n",
       "      <td>New Delhi</td>\n",
       "      <td>EdTech</td>\n",
       "      <td>New Delhi</td>\n",
       "      <td>None</td>\n",
       "    </tr>\n",
       "    <tr>\n",
       "      <th>1</th>\n",
       "      <td>AIC Banasthali Vidyapith Foundation</td>\n",
       "      <td>Thinkpods Education Services Private Limited (...</td>\n",
       "      <td>Satara, Maharashtra</td>\n",
       "      <td>Ed Tech</td>\n",
       "      <td>Satara</td>\n",
       "      <td>Maharashtra</td>\n",
       "    </tr>\n",
       "    <tr>\n",
       "      <th>2</th>\n",
       "      <td>AIC Banasthali Vidyapith Foundation</td>\n",
       "      <td>Inventiway Solutions Pvt.Ltd.</td>\n",
       "      <td>Mumbai, Maharashtra</td>\n",
       "      <td>HR Tech</td>\n",
       "      <td>Mumbai</td>\n",
       "      <td>Maharashtra</td>\n",
       "    </tr>\n",
       "    <tr>\n",
       "      <th>3</th>\n",
       "      <td>AIC Banasthali Vidyapith Foundation</td>\n",
       "      <td>C2M Internet India Pvt. Ltd.</td>\n",
       "      <td>Lucknow, Uttar Pradesh</td>\n",
       "      <td>Retail Tech</td>\n",
       "      <td>Lucknow</td>\n",
       "      <td>Uttar Pradesh</td>\n",
       "    </tr>\n",
       "    <tr>\n",
       "      <th>4</th>\n",
       "      <td>AIC Pinnacle Entrepreneurship Forum</td>\n",
       "      <td>Wastinno</td>\n",
       "      <td>Pune, Maharashtra</td>\n",
       "      <td>agriculture</td>\n",
       "      <td>Pune</td>\n",
       "      <td>Maharashtra</td>\n",
       "    </tr>\n",
       "  </tbody>\n",
       "</table>\n",
       "</div>"
      ],
      "text/plain": [
       "                     Incubation_Center  \\\n",
       "0                       ABES Ghaziabad   \n",
       "1  AIC Banasthali Vidyapith Foundation   \n",
       "2  AIC Banasthali Vidyapith Foundation   \n",
       "3  AIC Banasthali Vidyapith Foundation   \n",
       "4  AIC Pinnacle Entrepreneurship Forum   \n",
       "\n",
       "                                     Name_of_startup     Location of company  \\\n",
       "0                                           Suryansh               New Delhi   \n",
       "1  Thinkpods Education Services Private Limited (...     Satara, Maharashtra   \n",
       "2                      Inventiway Solutions Pvt.Ltd.     Mumbai, Maharashtra   \n",
       "3                       C2M Internet India Pvt. Ltd.  Lucknow, Uttar Pradesh   \n",
       "4                                           Wastinno       Pune, Maharashtra   \n",
       "\n",
       "        Sector       City           State  \n",
       "0       EdTech  New Delhi            None  \n",
       "1      Ed Tech     Satara     Maharashtra  \n",
       "2      HR Tech     Mumbai     Maharashtra  \n",
       "3  Retail Tech    Lucknow   Uttar Pradesh  \n",
       "4  agriculture       Pune     Maharashtra  "
      ]
     },
     "execution_count": 69,
     "metadata": {},
     "output_type": "execute_result"
    }
   ],
   "source": [
    "df.head()"
   ]
  },
  {
   "cell_type": "code",
   "execution_count": 71,
   "id": "2b20c7ee-4c0d-4011-b507-270d42c7435d",
   "metadata": {},
   "outputs": [
    {
     "data": {
      "text/plain": [
       "np.int64(67)"
      ]
     },
     "execution_count": 71,
     "metadata": {},
     "output_type": "execute_result"
    }
   ],
   "source": [
    "df.State.isna().sum()"
   ]
  },
  {
   "cell_type": "code",
   "execution_count": 72,
   "id": "975cf127-a57b-4a93-918a-dede9ac64de3",
   "metadata": {},
   "outputs": [
    {
     "data": {
      "text/plain": [
       "np.int64(2)"
      ]
     },
     "execution_count": 72,
     "metadata": {},
     "output_type": "execute_result"
    }
   ],
   "source": [
    "df.City.isna().sum()"
   ]
  },
  {
   "cell_type": "code",
   "execution_count": 73,
   "id": "7f60785e-90bb-4653-a070-d06ca19af966",
   "metadata": {},
   "outputs": [
    {
     "data": {
      "text/plain": [
       "0    New Delhi\n",
       "1       Satara\n",
       "2       Mumbai\n",
       "3      Lucknow\n",
       "4         Pune\n",
       "Name: City, dtype: object"
      ]
     },
     "execution_count": 73,
     "metadata": {},
     "output_type": "execute_result"
    }
   ],
   "source": [
    "df.City.head()"
   ]
  },
  {
   "cell_type": "code",
   "execution_count": 74,
   "id": "e95aa7d5-cf77-473a-9250-554a975a527b",
   "metadata": {},
   "outputs": [
    {
     "data": {
      "text/plain": [
       "0              None\n",
       "1       Maharashtra\n",
       "2       Maharashtra\n",
       "3     Uttar Pradesh\n",
       "4       Maharashtra\n",
       "Name: State, dtype: object"
      ]
     },
     "execution_count": 74,
     "metadata": {},
     "output_type": "execute_result"
    }
   ],
   "source": [
    "df.State.head()"
   ]
  },
  {
   "cell_type": "code",
   "execution_count": 75,
   "id": "785a2baa-fd19-460c-8bfe-550326b9f214",
   "metadata": {},
   "outputs": [],
   "source": [
    "df.City = df.City.str.strip()\n",
    "df.State = df.State.str.strip()"
   ]
  },
  {
   "cell_type": "code",
   "execution_count": 78,
   "id": "184ba07f-767a-441f-a47e-aac8bd39ddff",
   "metadata": {},
   "outputs": [],
   "source": [
    "import json\n",
    "with open('indian_states_and_cities.json') as f:\n",
    "    city_to_state = json.load(f)"
   ]
  },
  {
   "cell_type": "code",
   "execution_count": 79,
   "id": "87a180a3-5aae-4aa5-b283-db85aa0ad846",
   "metadata": {},
   "outputs": [],
   "source": [
    "def map_city_to_state(city):\n",
    "    city = city.title() if isinstance(city, str) else city\n",
    "    for state, cities in city_to_state.items():\n",
    "        if city in cities:\n",
    "            return state\n",
    "    return None"
   ]
  },
  {
   "cell_type": "code",
   "execution_count": 80,
   "id": "22318334-d6d0-4f4e-aad4-c4d4f102de2e",
   "metadata": {},
   "outputs": [],
   "source": [
    "missing_state = df[df['State'].isna()]"
   ]
  },
  {
   "cell_type": "code",
   "execution_count": 81,
   "id": "123d0475-a3f8-43d9-b434-2cb0b736d7eb",
   "metadata": {},
   "outputs": [],
   "source": [
    "for index, row in missing_state.iterrows():\n",
    "    city = row['City']\n",
    "    state = map_city_to_state(city)\n",
    "    if state:\n",
    "        df.at[index, 'State'] = state   "
   ]
  },
  {
   "cell_type": "code",
   "execution_count": 82,
   "id": "36afd026-44c3-4622-b9a6-cad1ae9b3884",
   "metadata": {},
   "outputs": [
    {
     "data": {
      "text/plain": [
       "np.int64(34)"
      ]
     },
     "execution_count": 82,
     "metadata": {},
     "output_type": "execute_result"
    }
   ],
   "source": [
    "df.State.isna().sum()"
   ]
  },
  {
   "cell_type": "code",
   "execution_count": 83,
   "id": "a5deec24-d476-4434-9a26-2ad51bb48bee",
   "metadata": {},
   "outputs": [
    {
     "data": {
      "text/html": [
       "<div>\n",
       "<style scoped>\n",
       "    .dataframe tbody tr th:only-of-type {\n",
       "        vertical-align: middle;\n",
       "    }\n",
       "\n",
       "    .dataframe tbody tr th {\n",
       "        vertical-align: top;\n",
       "    }\n",
       "\n",
       "    .dataframe thead th {\n",
       "        text-align: right;\n",
       "    }\n",
       "</style>\n",
       "<table border=\"1\" class=\"dataframe\">\n",
       "  <thead>\n",
       "    <tr style=\"text-align: right;\">\n",
       "      <th></th>\n",
       "      <th>Incubation_Center</th>\n",
       "      <th>Name_of_startup</th>\n",
       "      <th>Location of company</th>\n",
       "      <th>Sector</th>\n",
       "      <th>City</th>\n",
       "      <th>State</th>\n",
       "    </tr>\n",
       "  </thead>\n",
       "  <tbody>\n",
       "    <tr>\n",
       "      <th>0</th>\n",
       "      <td>ABES Ghaziabad</td>\n",
       "      <td>Suryansh</td>\n",
       "      <td>New Delhi</td>\n",
       "      <td>EdTech</td>\n",
       "      <td>New Delhi</td>\n",
       "      <td>None</td>\n",
       "    </tr>\n",
       "    <tr>\n",
       "      <th>1</th>\n",
       "      <td>AIC Banasthali Vidyapith Foundation</td>\n",
       "      <td>Thinkpods Education Services Private Limited (...</td>\n",
       "      <td>Satara, Maharashtra</td>\n",
       "      <td>Ed Tech</td>\n",
       "      <td>Satara</td>\n",
       "      <td>Maharashtra</td>\n",
       "    </tr>\n",
       "    <tr>\n",
       "      <th>2</th>\n",
       "      <td>AIC Banasthali Vidyapith Foundation</td>\n",
       "      <td>Inventiway Solutions Pvt.Ltd.</td>\n",
       "      <td>Mumbai, Maharashtra</td>\n",
       "      <td>HR Tech</td>\n",
       "      <td>Mumbai</td>\n",
       "      <td>Maharashtra</td>\n",
       "    </tr>\n",
       "    <tr>\n",
       "      <th>3</th>\n",
       "      <td>AIC Banasthali Vidyapith Foundation</td>\n",
       "      <td>C2M Internet India Pvt. Ltd.</td>\n",
       "      <td>Lucknow, Uttar Pradesh</td>\n",
       "      <td>Retail Tech</td>\n",
       "      <td>Lucknow</td>\n",
       "      <td>Uttar Pradesh</td>\n",
       "    </tr>\n",
       "    <tr>\n",
       "      <th>4</th>\n",
       "      <td>AIC Pinnacle Entrepreneurship Forum</td>\n",
       "      <td>Wastinno</td>\n",
       "      <td>Pune, Maharashtra</td>\n",
       "      <td>agriculture</td>\n",
       "      <td>Pune</td>\n",
       "      <td>Maharashtra</td>\n",
       "    </tr>\n",
       "  </tbody>\n",
       "</table>\n",
       "</div>"
      ],
      "text/plain": [
       "                     Incubation_Center  \\\n",
       "0                       ABES Ghaziabad   \n",
       "1  AIC Banasthali Vidyapith Foundation   \n",
       "2  AIC Banasthali Vidyapith Foundation   \n",
       "3  AIC Banasthali Vidyapith Foundation   \n",
       "4  AIC Pinnacle Entrepreneurship Forum   \n",
       "\n",
       "                                     Name_of_startup     Location of company  \\\n",
       "0                                           Suryansh               New Delhi   \n",
       "1  Thinkpods Education Services Private Limited (...     Satara, Maharashtra   \n",
       "2                      Inventiway Solutions Pvt.Ltd.     Mumbai, Maharashtra   \n",
       "3                       C2M Internet India Pvt. Ltd.  Lucknow, Uttar Pradesh   \n",
       "4                                           Wastinno       Pune, Maharashtra   \n",
       "\n",
       "        Sector       City          State  \n",
       "0       EdTech  New Delhi           None  \n",
       "1      Ed Tech     Satara    Maharashtra  \n",
       "2      HR Tech     Mumbai    Maharashtra  \n",
       "3  Retail Tech    Lucknow  Uttar Pradesh  \n",
       "4  agriculture       Pune    Maharashtra  "
      ]
     },
     "execution_count": 83,
     "metadata": {},
     "output_type": "execute_result"
    }
   ],
   "source": [
    "df.head()"
   ]
  },
  {
   "cell_type": "code",
   "execution_count": 64,
   "id": "3786502b-db46-497b-831a-19161d83f290",
   "metadata": {},
   "outputs": [],
   "source": [
    "df.to_csv('Updated_startups.csv', index=False)"
   ]
  },
  {
   "cell_type": "code",
   "execution_count": null,
   "id": "d250bc90-dff4-488f-96c8-f7a15bb8403a",
   "metadata": {},
   "outputs": [],
   "source": []
  },
  {
   "cell_type": "code",
   "execution_count": null,
   "id": "f2899820-a5da-4029-ba31-88e666bb38b9",
   "metadata": {},
   "outputs": [],
   "source": []
  },
  {
   "cell_type": "code",
   "execution_count": null,
   "id": "1e4dc16f-dde3-4f41-bae9-a43197292a62",
   "metadata": {},
   "outputs": [],
   "source": []
  }
 ],
 "metadata": {
  "kernelspec": {
   "display_name": "Python 3 (ipykernel)",
   "language": "python",
   "name": "python3"
  },
  "language_info": {
   "codemirror_mode": {
    "name": "ipython",
    "version": 3
   },
   "file_extension": ".py",
   "mimetype": "text/x-python",
   "name": "python",
   "nbconvert_exporter": "python",
   "pygments_lexer": "ipython3",
   "version": "3.9.13"
  }
 },
 "nbformat": 4,
 "nbformat_minor": 5
}
