{
 "cells": [
  {
   "cell_type": "code",
   "execution_count": 1,
   "id": "c896b571-2329-454b-a375-2d486c06c0ae",
   "metadata": {},
   "outputs": [],
   "source": [
    "import json"
   ]
  },
  {
   "cell_type": "code",
   "execution_count": 2,
   "id": "39f9674e-bb4e-4198-8f15-d1a135e500f8",
   "metadata": {},
   "outputs": [],
   "source": [
    "states_and_cities = {\n",
    "    \"Andhra Pradesh\": [\"Visakhapatnam\", \"Vijayawada\", \"Guntur\", \"Tirupati\"],\n",
    "    \"Arunachal Pradesh\": [\"Itanagar\", \"Tawang\", \"Pasighat\"],\n",
    "    \"Assam\": [\"Guwahati\", \"Dibrugarh\", \"Jorhat\", \"Silchar\"],\n",
    "    \"Bihar\": [\"Patna\", \"Gaya\", \"Bhagalpur\", \"Muzzaffarpur\"],\n",
    "    \"Chhattisgarh\": [\"Raipur\", \"Bhilai\", \"Korba\", \"Bilaspur\"],\n",
    "    \"Goa\": [\"Panaji\", \"Vasco da Gama\", \"Margao\", \"Mapusa\"],\n",
    "    \"Gujarat\": [\"Ahmedabad\", \"Surat\", \"Vadodara\", \"Rajkot\"],\n",
    "    \"Haryana\": [\"Chandigarh\", \"Gurgaon\", \"Faridabad\", \"Hisar\"],\n",
    "    \"Himachal Pradesh\": [\"Shimla\", \"Dharamshala\", \"Manali\", \"Kullu\"],\n",
    "    \"Jharkhand\": [\"Ranchi\", \"Jamshedpur\", \"Dhanbad\", \"Hazaribagh\"],\n",
    "    \"Karnataka\": [\"Bengaluru\", \"Mysuru\", \"Hubli\", \"Mangalore\"],\n",
    "    \"Kerala\": [\"Thiruvananthapuram\", \"Kochi\", \"Kozhikode\", \"Kottayam\"],\n",
    "    \"Madhya Pradesh\": [\"Bhopal\", \"Indore\", \"Gwalior\", \"Jabalpur\"],\n",
    "    \"Maharashtra\": [\"Mumbai\", \"Pune\", \"Nagpur\", \"Nashik\"],\n",
    "    \"Manipur\": [\"Imphal\", \"Thoubal\", \"Churachandpur\"],\n",
    "    \"Meghalaya\": [\"Shillong\", \"Tura\", \"Jowai\"],\n",
    "    \"Mizoram\": [\"Aizawl\", \"Lunglei\", \"Saiha\"],\n",
    "    \"Nagaland\": [\"Kohima\", \"Dimapur\", \"Mokokchung\"],\n",
    "    \"Odisha\": [\"Bhubaneswar\", \"Cuttack\", \"Rourkela\", \"Berhampur\"],\n",
    "    \"Punjab\": [\"Chandigarh\", \"Amritsar\", \"Ludhiana\", \"Jalandhar\"],\n",
    "    \"Rajasthan\": [\"Jaipur\", \"Udaipur\", \"Jodhpur\", \"Kota\"],\n",
    "    \"Sikkim\": [\"Gangtok\", \"Namchi\", \"Jorethang\"],\n",
    "    \"Tamil Nadu\": [\"Chennai\", \"Coimbatore\", \"Madurai\", \"Salem\"],\n",
    "    \"Telangana\": [\"Hyderabad\", \"Warangal\", \"Khammam\", \"Karimnagar\"],\n",
    "    \"Tripura\": [\"Agartala\", \"Dharmanagar\", \"Udaipur\"],\n",
    "    \"Uttar Pradesh\": [\"Lucknow\", \"Kanpur\", \"Varanasi\", \"Agra\"],\n",
    "    \"Uttarakhand\": [\"Dehradun\", \"Haridwar\", \"Nainital\", \"Rishikesh\"],\n",
    "    \"West Bengal\": [\"Kolkata\", \"Darjeeling\", \"Siliguri\", \"Asansol\"]\n",
    "}"
   ]
  },
  {
   "cell_type": "code",
   "execution_count": null,
   "id": "5764c0ed-1b74-4286-b294-6374f814dca6",
   "metadata": {},
   "outputs": [],
   "source": [
    "file_path = \"indian_states_and_cities.json\"\n",
    "with open(file_path, 'w', encoding='utf-8') as f:\n",
    "    json.dump(states_and_cities, f, indent=4)\n",
    "\n",
    "print(f\"File saved at {file_path}\")"
   ]
  }
 ],
 "metadata": {
  "kernelspec": {
   "display_name": "Python 3 (ipykernel)",
   "language": "python",
   "name": "python3"
  },
  "language_info": {
   "codemirror_mode": {
    "name": "ipython",
    "version": 3
   },
   "file_extension": ".py",
   "mimetype": "text/x-python",
   "name": "python",
   "nbconvert_exporter": "python",
   "pygments_lexer": "ipython3",
   "version": "3.9.13"
  }
 },
 "nbformat": 4,
 "nbformat_minor": 5
}
