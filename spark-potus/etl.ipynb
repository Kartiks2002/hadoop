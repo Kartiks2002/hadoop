{
 "cells": [
  {
   "cell_type": "code",
   "execution_count": 1,
   "id": "3dd1cb64",
   "metadata": {},
   "outputs": [
    {
     "data": {
      "text/plain": [
       "pyspark.context.SparkContext"
      ]
     },
     "execution_count": 1,
     "metadata": {},
     "output_type": "execute_result"
    }
   ],
   "source": [
    "type(sc)"
   ]
  },
  {
   "cell_type": "code",
   "execution_count": 4,
   "id": "3d3ec044",
   "metadata": {},
   "outputs": [],
   "source": [
    "wh_visits = spark.read.csv('file:///home/talentum/wh/whitehouse_visits.txt', header=False, inferSchema=True)"
   ]
  },
  {
   "cell_type": "code",
   "execution_count": 21,
   "id": "b580b4dc",
   "metadata": {},
   "outputs": [
    {
     "data": {
      "text/plain": [
       "pyspark.sql.dataframe.DataFrame"
      ]
     },
     "execution_count": 21,
     "metadata": {},
     "output_type": "execute_result"
    }
   ],
   "source": [
    "type(wh_visits)"
   ]
  },
  {
   "cell_type": "code",
   "execution_count": 9,
   "id": "5156b68c",
   "metadata": {},
   "outputs": [
    {
     "data": {
      "text/plain": [
       "256"
      ]
     },
     "execution_count": 9,
     "metadata": {},
     "output_type": "execute_result"
    }
   ],
   "source": [
    "len(wh_visits.columns)"
   ]
  },
  {
   "cell_type": "code",
   "execution_count": 16,
   "id": "f1eba022",
   "metadata": {},
   "outputs": [],
   "source": [
    "c19 = wh_visits[19]"
   ]
  },
  {
   "cell_type": "code",
   "execution_count": 17,
   "id": "2d598968",
   "metadata": {},
   "outputs": [
    {
     "data": {
      "text/plain": [
       "pyspark.sql.column.Column"
      ]
     },
     "execution_count": 17,
     "metadata": {},
     "output_type": "execute_result"
    }
   ],
   "source": [
    "type(c19)"
   ]
  },
  {
   "cell_type": "code",
   "execution_count": 14,
   "id": "1a26d6e5",
   "metadata": {},
   "outputs": [],
   "source": [
    "potus = wh_visits.filter(c19 == \"POTUS\")"
   ]
  },
  {
   "cell_type": "code",
   "execution_count": 15,
   "id": "3fe0fefa",
   "metadata": {},
   "outputs": [
    {
     "data": {
      "text/plain": [
       "pyspark.sql.dataframe.DataFrame"
      ]
     },
     "execution_count": 15,
     "metadata": {},
     "output_type": "execute_result"
    }
   ],
   "source": [
    "type(potus)"
   ]
  },
  {
   "cell_type": "code",
   "execution_count": 19,
   "id": "8c11b07d",
   "metadata": {
    "scrolled": true
   },
   "outputs": [
    {
     "data": {
      "text/plain": [
       "[Row(_c0='BUCKLEY', _c1='SUMMER', _c2=None, _c3='U48968', _c4=82689, _c5='VA', _c6='10/12/2010 14:48', _c7='B0402', _c8='10/13/2010 0:19', _c9='B0402', _c10='10/8/2010 15:18', _c11='10/12/2010 14:45', _c12='10/12/2010 23:59', _c13=None, _c14=3, _c15='SL', _c16='WIN', _c17='10/8/2010 15:18', _c18='SL', _c19='POTUS', _c20=None, _c21='WH', _c22='OVAL OFFIC', _c23='ADAMS', _c24='IAN', _c25=None, _c26='1/28/2011', _c27=None, _c28=None, _c29=None, _c30=None, _c31=None, _c32=None, _c33=None, _c34=None, _c35=None, _c36=None, _c37=None, _c38=None, _c39=None, _c40=None, _c41=None, _c42=None, _c43=None, _c44=None, _c45=None, _c46=None, _c47=None, _c48=None, _c49=None, _c50=None, _c51=None, _c52=None, _c53=None, _c54=None, _c55=None, _c56=None, _c57=None, _c58=None, _c59=None, _c60=None, _c61=None, _c62=None, _c63=None, _c64=None, _c65=None, _c66=None, _c67=None, _c68=None, _c69=None, _c70=None, _c71=None, _c72=None, _c73=None, _c74=None, _c75=None, _c76=None, _c77=None, _c78=None, _c79=None, _c80=None, _c81=None, _c82=None, _c83=None, _c84=None, _c85=None, _c86=None, _c87=None, _c88=None, _c89=None, _c90=None, _c91=None, _c92=None, _c93=None, _c94=None, _c95=None, _c96=None, _c97=None, _c98=None, _c99=None, _c100=None, _c101=None, _c102=None, _c103=None, _c104=None, _c105=None, _c106=None, _c107=None, _c108=None, _c109=None, _c110=None, _c111=None, _c112=None, _c113=None, _c114=None, _c115=None, _c116=None, _c117=None, _c118=None, _c119=None, _c120=None, _c121=None, _c122=None, _c123=None, _c124=None, _c125=None, _c126=None, _c127=None, _c128=None, _c129=None, _c130=None, _c131=None, _c132=None, _c133=None, _c134=None, _c135=None, _c136=None, _c137=None, _c138=None, _c139=None, _c140=None, _c141=None, _c142=None, _c143=None, _c144=None, _c145=None, _c146=None, _c147=None, _c148=None, _c149=None, _c150=None, _c151=None, _c152=None, _c153=None, _c154=None, _c155=None, _c156=None, _c157=None, _c158=None, _c159=None, _c160=None, _c161=None, _c162=None, _c163=None, _c164=None, _c165=None, _c166=None, _c167=None, _c168=None, _c169=None, _c170=None, _c171=None, _c172=None, _c173=None, _c174=None, _c175=None, _c176=None, _c177=None, _c178=None, _c179=None, _c180=None, _c181=None, _c182=None, _c183=None, _c184=None, _c185=None, _c186=None, _c187=None, _c188=None, _c189=None, _c190=None, _c191=None, _c192=None, _c193=None, _c194=None, _c195=None, _c196=None, _c197=None, _c198=None, _c199=None, _c200=None, _c201=None, _c202=None, _c203=None, _c204=None, _c205=None, _c206=None, _c207=None, _c208=None, _c209=None, _c210=None, _c211=None, _c212=None, _c213=None, _c214=None, _c215=None, _c216=None, _c217=None, _c218=None, _c219=None, _c220=None, _c221=None, _c222=None, _c223=None, _c224=None, _c225=None, _c226=None, _c227=None, _c228=None, _c229=None, _c230=None, _c231=None, _c232=None, _c233=None, _c234=None, _c235=None, _c236=None, _c237=None, _c238=None, _c239=None, _c240=None, _c241=None, _c242=None, _c243=None, _c244=None, _c245=None, _c246=None, _c247=None, _c248=None, _c249=None, _c250=None, _c251=None, _c252=None, _c253=None, _c254=None, _c255=None),\n",
       " Row(_c0='CLOONEY', _c1='GEORGE', _c2='T', _c3='U48968', _c4=82690, _c5='VA', _c6='10/12/2010 14:47', _c7='B0402', _c8=None, _c9=None, _c10='10/8/2010 15:18', _c11='10/12/2010 14:45', _c12='10/12/2010 23:59', _c13=None, _c14=3, _c15='SL', _c16='WIN', _c17='10/8/2010 15:18', _c18='SL', _c19='POTUS', _c20=None, _c21='WH', _c22='OVAL OFFIC', _c23='ADAMS', _c24='IAN', _c25=None, _c26='1/28/2011', _c27=None, _c28=None, _c29=None, _c30=None, _c31=None, _c32=None, _c33=None, _c34=None, _c35=None, _c36=None, _c37=None, _c38=None, _c39=None, _c40=None, _c41=None, _c42=None, _c43=None, _c44=None, _c45=None, _c46=None, _c47=None, _c48=None, _c49=None, _c50=None, _c51=None, _c52=None, _c53=None, _c54=None, _c55=None, _c56=None, _c57=None, _c58=None, _c59=None, _c60=None, _c61=None, _c62=None, _c63=None, _c64=None, _c65=None, _c66=None, _c67=None, _c68=None, _c69=None, _c70=None, _c71=None, _c72=None, _c73=None, _c74=None, _c75=None, _c76=None, _c77=None, _c78=None, _c79=None, _c80=None, _c81=None, _c82=None, _c83=None, _c84=None, _c85=None, _c86=None, _c87=None, _c88=None, _c89=None, _c90=None, _c91=None, _c92=None, _c93=None, _c94=None, _c95=None, _c96=None, _c97=None, _c98=None, _c99=None, _c100=None, _c101=None, _c102=None, _c103=None, _c104=None, _c105=None, _c106=None, _c107=None, _c108=None, _c109=None, _c110=None, _c111=None, _c112=None, _c113=None, _c114=None, _c115=None, _c116=None, _c117=None, _c118=None, _c119=None, _c120=None, _c121=None, _c122=None, _c123=None, _c124=None, _c125=None, _c126=None, _c127=None, _c128=None, _c129=None, _c130=None, _c131=None, _c132=None, _c133=None, _c134=None, _c135=None, _c136=None, _c137=None, _c138=None, _c139=None, _c140=None, _c141=None, _c142=None, _c143=None, _c144=None, _c145=None, _c146=None, _c147=None, _c148=None, _c149=None, _c150=None, _c151=None, _c152=None, _c153=None, _c154=None, _c155=None, _c156=None, _c157=None, _c158=None, _c159=None, _c160=None, _c161=None, _c162=None, _c163=None, _c164=None, _c165=None, _c166=None, _c167=None, _c168=None, _c169=None, _c170=None, _c171=None, _c172=None, _c173=None, _c174=None, _c175=None, _c176=None, _c177=None, _c178=None, _c179=None, _c180=None, _c181=None, _c182=None, _c183=None, _c184=None, _c185=None, _c186=None, _c187=None, _c188=None, _c189=None, _c190=None, _c191=None, _c192=None, _c193=None, _c194=None, _c195=None, _c196=None, _c197=None, _c198=None, _c199=None, _c200=None, _c201=None, _c202=None, _c203=None, _c204=None, _c205=None, _c206=None, _c207=None, _c208=None, _c209=None, _c210=None, _c211=None, _c212=None, _c213=None, _c214=None, _c215=None, _c216=None, _c217=None, _c218=None, _c219=None, _c220=None, _c221=None, _c222=None, _c223=None, _c224=None, _c225=None, _c226=None, _c227=None, _c228=None, _c229=None, _c230=None, _c231=None, _c232=None, _c233=None, _c234=None, _c235=None, _c236=None, _c237=None, _c238=None, _c239=None, _c240=None, _c241=None, _c242=None, _c243=None, _c244=None, _c245=None, _c246=None, _c247=None, _c248=None, _c249=None, _c250=None, _c251=None, _c252=None, _c253=None, _c254=None, _c255=None)]"
      ]
     },
     "execution_count": 19,
     "metadata": {},
     "output_type": "execute_result"
    }
   ],
   "source": [
    "potus.take(2)"
   ]
  },
  {
   "cell_type": "code",
   "execution_count": 25,
   "id": "bd5981d3",
   "metadata": {},
   "outputs": [],
   "source": [
    "potus_req = potus.select(potus._c0, potus._c1, potus._c6, potus._c11, potus._c21, potus._c25)"
   ]
  },
  {
   "cell_type": "code",
   "execution_count": 26,
   "id": "f319e14b",
   "metadata": {},
   "outputs": [
    {
     "data": {
      "text/plain": [
       "[Row(_c0='BUCKLEY', _c1='SUMMER', _c6='10/12/2010 14:48', _c11='10/12/2010 14:45', _c21='WH', _c25=None),\n",
       " Row(_c0='CLOONEY', _c1='GEORGE', _c6='10/12/2010 14:47', _c11='10/12/2010 14:45', _c21='WH', _c25=None)]"
      ]
     },
     "execution_count": 26,
     "metadata": {},
     "output_type": "execute_result"
    }
   ],
   "source": [
    "potus_req.take(2)"
   ]
  },
  {
   "cell_type": "code",
   "execution_count": 32,
   "id": "93662084",
   "metadata": {},
   "outputs": [],
   "source": [
    "potus_req_headers = potus_req.withColumnRenamed('_c0', 'fname')\\\n",
    "                                .withColumnRenamed('_c1', 'lname')\\\n",
    "                                .withColumnRenamed('_c6', 'arrival_time')\\\n",
    "                                .withColumnRenamed('_c11', 'appt_scheduled_time')\\\n",
    "                                .withColumnRenamed('_c21', 'location')\\\n",
    "                                .withColumnRenamed('_c25', 'comment')\\"
   ]
  },
  {
   "cell_type": "code",
   "execution_count": 33,
   "id": "3c2a4730",
   "metadata": {},
   "outputs": [
    {
     "data": {
      "text/plain": [
       "[Row(fname='BUCKLEY', lname='SUMMER', arrival_time='10/12/2010 14:48', appt_scheduled_time='10/12/2010 14:45', location='WH', comment=None),\n",
       " Row(fname='CLOONEY', lname='GEORGE', arrival_time='10/12/2010 14:47', appt_scheduled_time='10/12/2010 14:45', location='WH', comment=None)]"
      ]
     },
     "execution_count": 33,
     "metadata": {},
     "output_type": "execute_result"
    }
   ],
   "source": [
    "potus_req_headers.take(2)"
   ]
  },
  {
   "cell_type": "code",
   "execution_count": null,
   "id": "b8aebb59",
   "metadata": {},
   "outputs": [],
   "source": [
    "potus_req_headers.coalesce(1)\\\n",
    "    .write\\\n",
    "    .option('header', 'true')\\\n",
    "    .csv('file:///home/talentum/wh/potus')"
   ]
  }
 ],
 "metadata": {
  "kernelspec": {
   "display_name": "Python 3",
   "language": "python",
   "name": "python3"
  },
  "language_info": {
   "codemirror_mode": {
    "name": "ipython",
    "version": 3
   },
   "file_extension": ".py",
   "mimetype": "text/x-python",
   "name": "python",
   "nbconvert_exporter": "python",
   "pygments_lexer": "ipython3",
   "version": "3.6.9"
  }
 },
 "nbformat": 4,
 "nbformat_minor": 5
}
