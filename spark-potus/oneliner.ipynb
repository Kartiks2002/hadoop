{
 "cells": [
  {
   "cell_type": "code",
   "execution_count": 4,
   "id": "03b7001a",
   "metadata": {},
   "outputs": [],
   "source": [
    "from pyspark.sql.functions import col"
   ]
  },
  {
   "cell_type": "code",
   "execution_count": 1,
   "id": "6bc51588",
   "metadata": {},
   "outputs": [],
   "source": [
    "headers = ['fname', 'lname', 'arrival_time', 'appt_scheduled_time', 'location', 'comment']"
   ]
  },
  {
   "cell_type": "code",
   "execution_count": 7,
   "id": "8b6a9250",
   "metadata": {},
   "outputs": [],
   "source": [
    "spark.read.csv('file:///home/talentum/wh/whitehouse_visits.txt', header=False, inferSchema=True)\\\n",
    "    .filter(col('_c19') == \"POTUS\")\\\n",
    "    .select(col('_c0'), col('_c1'), col('_c6'), col('_c11'), col('_c21'), col('_c25'))\\\n",
    "    .withColumnRenamed('_c0', 'fname')\\\n",
    "    .withColumnRenamed('_c1', 'lname')\\\n",
    "    .withColumnRenamed('_c6', 'arrival_time')\\\n",
    "    .withColumnRenamed('_c11', 'appt_scheduled_time')\\\n",
    "    .withColumnRenamed('_c21', 'location')\\\n",
    "    .withColumnRenamed('_c25', 'comment')\\\n",
    "    .coalesce(1)\\\n",
    "    .write\\\n",
    "    .option('header', 'true')\\\n",
    "    .csv('file:///home/talentum/wh/potus')"
   ]
  },
  {
   "cell_type": "code",
   "execution_count": null,
   "id": "239c6d8d",
   "metadata": {},
   "outputs": [],
   "source": []
  }
 ],
 "metadata": {
  "kernelspec": {
   "display_name": "Python 3",
   "language": "python",
   "name": "python3"
  },
  "language_info": {
   "codemirror_mode": {
    "name": "ipython",
    "version": 3
   },
   "file_extension": ".py",
   "mimetype": "text/x-python",
   "name": "python",
   "nbconvert_exporter": "python",
   "pygments_lexer": "ipython3",
   "version": "3.6.9"
  }
 },
 "nbformat": 4,
 "nbformat_minor": 5
}
